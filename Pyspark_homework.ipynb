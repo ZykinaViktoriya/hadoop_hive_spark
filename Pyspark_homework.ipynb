{
  "nbformat": 4,
  "nbformat_minor": 0,
  "metadata": {
    "colab": {
      "provenance": [],
      "include_colab_link": true
    },
    "kernelspec": {
      "name": "python3",
      "display_name": "Python 3"
    },
    "language_info": {
      "name": "python"
    }
  },
  "cells": [
    {
      "cell_type": "markdown",
      "metadata": {
        "id": "view-in-github",
        "colab_type": "text"
      },
      "source": [
        "<a href=\"https://colab.research.google.com/github/ZykinaViktoriya/spark/blob/main/Pyspark_homework.ipynb\" target=\"_parent\"><img src=\"https://colab.research.google.com/assets/colab-badge.svg\" alt=\"Open In Colab\"/></a>"
      ]
    },
    {
      "cell_type": "markdown",
      "metadata": {
        "id": "T8QVIRqy2rBm"
      },
      "source": [
        "# Настраиваем окружение\n",
        "\n",
        "\n",
        "*   устанавливаем pyspark\n",
        "\n"
      ]
    },
    {
      "cell_type": "code",
      "metadata": {
        "colab": {
          "base_uri": "https://localhost:8080/"
        },
        "id": "Bw6j_VUA2qyA",
        "outputId": "98232559-3248-418e-9f90-1f7956e00824"
      },
      "source": [
        "!pip install pyspark"
      ],
      "execution_count": null,
      "outputs": [
        {
          "output_type": "stream",
          "name": "stdout",
          "text": [
            "Collecting pyspark\n",
            "  Downloading pyspark-3.5.1.tar.gz (317.0 MB)\n",
            "\u001b[2K     \u001b[90m━━━━━━━━━━━━━━━━━━━━━━━━━━━━━━━━━━━━━━━━\u001b[0m \u001b[32m317.0/317.0 MB\u001b[0m \u001b[31m2.0 MB/s\u001b[0m eta \u001b[36m0:00:00\u001b[0m\n",
            "\u001b[?25h  Preparing metadata (setup.py) ... \u001b[?25l\u001b[?25hdone\n",
            "Requirement already satisfied: py4j==0.10.9.7 in /usr/local/lib/python3.10/dist-packages (from pyspark) (0.10.9.7)\n",
            "Building wheels for collected packages: pyspark\n",
            "  Building wheel for pyspark (setup.py) ... \u001b[?25l\u001b[?25hdone\n",
            "  Created wheel for pyspark: filename=pyspark-3.5.1-py2.py3-none-any.whl size=317488493 sha256=a3aa1e79e049bce75acaf2c1f1f4c46baf8a959d7cbf0b3809e7d74043b7aff8\n",
            "  Stored in directory: /root/.cache/pip/wheels/80/1d/60/2c256ed38dddce2fdd93be545214a63e02fbd8d74fb0b7f3a6\n",
            "Successfully built pyspark\n",
            "Installing collected packages: pyspark\n",
            "Successfully installed pyspark-3.5.1\n"
          ]
        }
      ]
    },
    {
      "cell_type": "markdown",
      "metadata": {
        "id": "0xMi-eTc3Vn9"
      },
      "source": [
        "# Создаём сессию - точкy входа для spark"
      ]
    },
    {
      "cell_type": "code",
      "metadata": {
        "id": "idrMQH4dj605"
      },
      "source": [
        "from pyspark.sql import SparkSession\n",
        "\n",
        "spark = SparkSession.builder\\\n",
        "        .master(\"local[4]\")\\\n",
        "        .appName(\"Colab_pyspark\")\\\n",
        "        .config('spark.ui.port', '4050')\\\n",
        "        .getOrCreate()"
      ],
      "execution_count": null,
      "outputs": []
    },
    {
      "cell_type": "code",
      "source": [
        "sc = spark.sparkContext"
      ],
      "metadata": {
        "id": "-_jieGshkt7f"
      },
      "execution_count": null,
      "outputs": []
    },
    {
      "cell_type": "code",
      "source": [
        "sc"
      ],
      "metadata": {
        "colab": {
          "base_uri": "https://localhost:8080/",
          "height": 198
        },
        "id": "MTm9qVDJkygY",
        "outputId": "2a279278-2dbb-4970-f9bc-b39460a097ff"
      },
      "execution_count": null,
      "outputs": [
        {
          "output_type": "execute_result",
          "data": {
            "text/plain": [
              "<SparkContext master=local[4] appName=Colab_pyspark>"
            ],
            "text/html": [
              "\n",
              "        <div>\n",
              "            <p><b>SparkContext</b></p>\n",
              "\n",
              "            <p><a href=\"http://42321b7c4637:4050\">Spark UI</a></p>\n",
              "\n",
              "            <dl>\n",
              "              <dt>Version</dt>\n",
              "                <dd><code>v3.5.1</code></dd>\n",
              "              <dt>Master</dt>\n",
              "                <dd><code>local[4]</code></dd>\n",
              "              <dt>AppName</dt>\n",
              "                <dd><code>Colab_pyspark</code></dd>\n",
              "            </dl>\n",
              "        </div>\n",
              "        "
            ]
          },
          "metadata": {},
          "execution_count": 4
        }
      ]
    },
    {
      "cell_type": "code",
      "metadata": {
        "colab": {
          "base_uri": "https://localhost:8080/",
          "height": 222
        },
        "id": "J4_3n_mikFxE",
        "outputId": "f85e4dec-f7e7-4bff-a512-23da47a0abfe"
      },
      "source": [
        "spark"
      ],
      "execution_count": null,
      "outputs": [
        {
          "output_type": "execute_result",
          "data": {
            "text/plain": [
              "<pyspark.sql.session.SparkSession at 0x7fb208024e50>"
            ],
            "text/html": [
              "\n",
              "            <div>\n",
              "                <p><b>SparkSession - in-memory</b></p>\n",
              "                \n",
              "        <div>\n",
              "            <p><b>SparkContext</b></p>\n",
              "\n",
              "            <p><a href=\"http://42321b7c4637:4050\">Spark UI</a></p>\n",
              "\n",
              "            <dl>\n",
              "              <dt>Version</dt>\n",
              "                <dd><code>v3.5.1</code></dd>\n",
              "              <dt>Master</dt>\n",
              "                <dd><code>local[4]</code></dd>\n",
              "              <dt>AppName</dt>\n",
              "                <dd><code>Colab_pyspark</code></dd>\n",
              "            </dl>\n",
              "        </div>\n",
              "        \n",
              "            </div>\n",
              "        "
            ]
          },
          "metadata": {},
          "execution_count": 5
        }
      ]
    },
    {
      "cell_type": "code",
      "metadata": {
        "colab": {
          "base_uri": "https://localhost:8080/"
        },
        "id": "h2KI_3rQm4p_",
        "outputId": "dd9bff6f-31a7-469f-f003-33a83f7358c9"
      },
      "source": [
        "# Просмотр текущей конфигурации\n",
        "from pyspark import SparkConf\n",
        "\n",
        "SparkConf().getAll()"
      ],
      "execution_count": null,
      "outputs": [
        {
          "output_type": "execute_result",
          "data": {
            "text/plain": [
              "[('spark.ui.port', '4050'),\n",
              " ('spark.master', 'local[4]'),\n",
              " ('spark.app.name', 'Colab_pyspark'),\n",
              " ('spark.submit.pyFiles', ''),\n",
              " ('spark.submit.deployMode', 'client'),\n",
              " ('spark.app.submitTime', '1709649599409'),\n",
              " ('spark.ui.showConsoleProgress', 'true')]"
            ]
          },
          "metadata": {},
          "execution_count": 6
        }
      ]
    },
    {
      "cell_type": "markdown",
      "metadata": {
        "id": "ZbC3EA-U3xuV"
      },
      "source": [
        "## Создаём dataframe\n"
      ]
    },
    {
      "cell_type": "code",
      "metadata": {
        "id": "WehmhxlH3rzk"
      },
      "source": [
        "data = [('James','','Smith','1991-04-01','M',3000),\n",
        "  ('Michael','Rose','','2000-05-19','M',4000),\n",
        "  ('Robert','','Williams','1978-09-05','M',4000),\n",
        "  ('Maria','Anne','Jones','1967-12-01','F',4000),\n",
        "  ('Jen','Mary','Brown','1980-02-17','F',-1)\n",
        "]\n",
        "\n",
        "columns = [\"firstname\", \"middlename\", \"lastname\", \"birthday\", \"gender\", \"salary\"]\n",
        "df = spark.createDataFrame(data=data, schema = columns)"
      ],
      "execution_count": null,
      "outputs": []
    },
    {
      "cell_type": "code",
      "metadata": {
        "colab": {
          "base_uri": "https://localhost:8080/"
        },
        "id": "wxURyFfokLzg",
        "outputId": "a99c5caf-5567-4804-a7b2-f3aa22202f48"
      },
      "source": [
        "df.show()"
      ],
      "execution_count": null,
      "outputs": [
        {
          "output_type": "stream",
          "name": "stdout",
          "text": [
            "+---------+----------+--------+----------+------+------+\n",
            "|firstname|middlename|lastname|  birthday|gender|salary|\n",
            "+---------+----------+--------+----------+------+------+\n",
            "|    James|          |   Smith|1991-04-01|     M|  3000|\n",
            "|  Michael|      Rose|        |2000-05-19|     M|  4000|\n",
            "|   Robert|          |Williams|1978-09-05|     M|  4000|\n",
            "|    Maria|      Anne|   Jones|1967-12-01|     F|  4000|\n",
            "|      Jen|      Mary|   Brown|1980-02-17|     F|    -1|\n",
            "+---------+----------+--------+----------+------+------+\n",
            "\n"
          ]
        }
      ]
    },
    {
      "cell_type": "markdown",
      "metadata": {
        "id": "Bs69j-Qw4Kg7"
      },
      "source": [
        "## Считываем и сохраняем файл"
      ]
    },
    {
      "cell_type": "code",
      "metadata": {
        "colab": {
          "base_uri": "https://localhost:8080/"
        },
        "id": "gdLZUjyS4No5",
        "outputId": "cf03a546-2616-4373-9b78-4a8f0210917e"
      },
      "source": [
        "!wget https://raw.githubusercontent.com/BKHV/risk_models/master/data/PD-data-train.csv"
      ],
      "execution_count": null,
      "outputs": [
        {
          "output_type": "stream",
          "name": "stdout",
          "text": [
            "--2024-03-05 14:44:20--  https://raw.githubusercontent.com/BKHV/risk_models/master/data/PD-data-train.csv\n",
            "Resolving raw.githubusercontent.com (raw.githubusercontent.com)... 185.199.110.133, 185.199.109.133, 185.199.108.133, ...\n",
            "Connecting to raw.githubusercontent.com (raw.githubusercontent.com)|185.199.110.133|:443... connected.\n",
            "HTTP request sent, awaiting response... 200 OK\n",
            "Length: 5329268 (5.1M) [text/plain]\n",
            "Saving to: ‘PD-data-train.csv’\n",
            "\n",
            "PD-data-train.csv   100%[===================>]   5.08M  --.-KB/s    in 0.05s   \n",
            "\n",
            "2024-03-05 14:44:21 (96.9 MB/s) - ‘PD-data-train.csv’ saved [5329268/5329268]\n",
            "\n"
          ]
        }
      ]
    },
    {
      "cell_type": "code",
      "metadata": {
        "id": "zVvT-_kl4snt"
      },
      "source": [
        "df = spark.read.csv(\"PD-data-train.csv\", header=True, inferSchema=True, sep=';')"
      ],
      "execution_count": null,
      "outputs": []
    },
    {
      "cell_type": "code",
      "metadata": {
        "colab": {
          "base_uri": "https://localhost:8080/"
        },
        "id": "h8u6qrQ441ya",
        "outputId": "101a685b-68ba-4a9a-dfe6-9e39b52a40cb"
      },
      "source": [
        "df.show()"
      ],
      "execution_count": null,
      "outputs": [
        {
          "output_type": "stream",
          "name": "stdout",
          "text": [
            "+---------+----------+-----------------+------------+-------------------+----------------------+--------------+----------------------------+--------------------+--------+--------------------------+-------------+---------------------+------------------------+------------+----------------------+-----------------------+----------------------+---------+--------------+-------------------+------------------------+-----------------------+-------------------+-------------------+-------+--------+--------------+---------------+--------------+--------------+--------------+---------------+-------------+----------------+--------------------+-----------+\n",
            "|record_id|ar_revenue|ar_total_expenses|ar_sale_cost|ar_selling_expenses|ar_management_expenses|ar_sale_profit|ar_balance_of_rvns_and_expns|ar_profit_before_tax|ar_taxes|ar_other_profit_and_losses|ar_net_profit|ab_immobilized_assets|ab_mobile_current_assets|ab_inventory|ab_accounts_receivable|ab_other_current_assets|ab_cash_and_securities|ab_losses|ab_own_capital|ab_borrowed_capital|ab_long_term_liabilities|ab_short_term_borrowing|ab_accounts_payable|ab_other_borrowings|bus_age|ogrn_age|adr_actual_age|head_actual_age|cap_actual_age|ul_staff_range|ul_capital_sum|ul_founders_cnt|ul_branch_cnt|ul_strategic_flg|ul_systematizing_flg|default_12m|\n",
            "+---------+----------+-----------------+------------+-------------------+----------------------+--------------+----------------------------+--------------------+--------+--------------------------+-------------+---------------------+------------------------+------------+----------------------+-----------------------+----------------------+---------+--------------+-------------------+------------------------+-----------------------+-------------------+-------------------+-------+--------+--------------+---------------+--------------+--------------+--------------+---------------+-------------+----------------+--------------------+-----------+\n",
            "|        7|  5.2996E7|         4.8344E7|    4.8344E7|                0.0|                   0.0|     4652000.0|                  -2608000.0|           2044000.0|846000.0|                       0.0|    1198000.0|                  0.0|               7240000.0|   4988000.0|             2252000.0|                    0.0|              255000.0|1198000.0|      663000.0|           1.5872E7|                     0.0|               1.1349E7|          4523000.0|                0.0|    198|     136|             3|              3|             3|       [1-100]|       50000.0|              2|            0|               0|                   0|          0|\n",
            "|       13|      NULL|             NULL|        NULL|               NULL|                  NULL|          NULL|                        NULL|                NULL|    NULL|                      NULL|         NULL|                 NULL|                    NULL|        NULL|                  NULL|                   NULL|                  NULL|     NULL|          NULL|               NULL|                    NULL|                   NULL|               NULL|               NULL|    256|     135|            12|             12|            12|       [1-100]|       10000.0|              5|            0|               0|                   0|          0|\n",
            "|       18|      NULL|             NULL|        NULL|               NULL|                  NULL|          NULL|                        NULL|                NULL|    NULL|                      NULL|         NULL|                 NULL|                    NULL|        NULL|                  NULL|                   NULL|                  NULL|     NULL|          NULL|               NULL|                    NULL|                   NULL|               NULL|               NULL|     33|      33|            28|             28|            28|       [1-100]|       10000.0|              2|            0|               0|                   0|          0|\n",
            "|       22|  3.2049E7|         2.9568E7|    2.9568E7|                0.0|                   0.0|     2481000.0|                   -260000.0|           2221000.0|302000.0|                       0.0|    1919000.0|                  0.0|               4245000.0|   4082000.0|              163000.0|                    0.0|               25000.0|1919000.0|     2219000.0|          3652000.0|                     0.0|              3652000.0|                0.0|                0.0|    185|     139|             8|              8|             8|       [1-100]|      300000.0|              1|            0|               0|                   0|          0|\n",
            "|       23|  1.6458E7|         1.4935E7|    1.4935E7|                0.0|                   0.0|     1523000.0|                   -274000.0|           1249000.0|538000.0|                       0.0|     711000.0|                  0.0|               8950000.0|   8606000.0|              344000.0|                    0.0|              492000.0| 711000.0|      1.2439E7|          1279000.0|                     0.0|                    0.0|          1279000.0|                0.0|    220|     138|            27|             27|            27|       [1-100]|       10000.0|              2|            0|               0|                   0|          0|\n",
            "|       24|      NULL|             NULL|        NULL|               NULL|                  NULL|          NULL|                        NULL|                NULL|    NULL|                      NULL|         NULL|                 NULL|                    NULL|        NULL|                  NULL|                   NULL|                  NULL|     NULL|          NULL|               NULL|                    NULL|                   NULL|               NULL|               NULL|    100|     100|             5|              5|             5|       [1-100]|      350000.0|              1|            0|               0|                   0|          0|\n",
            "|       30|      NULL|             NULL|        NULL|               NULL|                  NULL|          NULL|                        NULL|                NULL|    NULL|                      NULL|         NULL|                 NULL|                    NULL|        NULL|                  NULL|                   NULL|                  NULL|     NULL|          NULL|               NULL|                    NULL|                   NULL|               NULL|               NULL|    266|      27|             7|              7|             7|       [1-100]|       35000.0|              3|            0|               0|                   0|          0|\n",
            "|       37|      NULL|             NULL|        NULL|               NULL|                  NULL|          NULL|                        NULL|                NULL|    NULL|                      NULL|         NULL|                 NULL|                    NULL|        NULL|                  NULL|                   NULL|                  NULL|     NULL|          NULL|               NULL|                    NULL|                   NULL|               NULL|               NULL|     31|      31|            30|             30|            30|       [1-100]|       10000.0|              2|            0|               0|                   0|          0|\n",
            "|       38|      NULL|             NULL|        NULL|               NULL|                  NULL|          NULL|                        NULL|                NULL|    NULL|                      NULL|         NULL|                 NULL|                    NULL|        NULL|                  NULL|                   NULL|                  NULL|     NULL|          NULL|               NULL|                    NULL|                   NULL|               NULL|               NULL|     27|      27|            26|             26|            26|       [1-100]|       10000.0|              1|            0|               0|                   0|          0|\n",
            "|       40| 1.25432E8|        1.22655E8|   1.22655E8|                0.0|                   0.0|     2777000.0|                    -63000.0|           2714000.0|579000.0|                       0.0|    2135000.0|                  0.0|                 2.468E7|   8263000.0|              1.6417E7|                    0.0|              106000.0|2135000.0|      1.1267E7|           1.1912E7|                     0.0|                13000.0|           1.1899E7|                0.0|    170|     132|            15|             15|            15|     (100-500]|       10000.0|              2|            0|               0|                   0|          0|\n",
            "|       54|   5.957E7|         5.9331E7|    5.9331E7|                0.0|                   0.0|      239000.0|                    -97000.0|            142000.0| 38000.0|                       0.0|     104000.0|                  0.0|                3.8004E7|    2.3189E7|              1.4815E7|                    0.0|              449000.0| 104000.0|       10000.0|           3.8443E7|                     0.0|              4986000.0|           3.3457E7|                0.0|     29|      29|             4|              4|             4|       [1-100]|       10000.0|              2|            0|               0|                   0|          0|\n",
            "|       57| 1.80125E8|        1.58517E8|   1.42075E8|           1.6442E7|                   0.0|      2.1608E7|                         0.0|            2.1608E7|     0.0|                       0.0|     2.1608E7|            2094000.0|                1.0618E8|   1180000.0|                1.05E8|                    0.0|              557000.0| 2.1608E7|      9.0313E7|           1.8518E7|                     0.0|              7500000.0|           1.1018E7|                0.0|    102|     102|             4|              4|             4|         > 500|      300000.0|              2|            0|               0|                   0|          0|\n",
            "|       68|  3.5375E7|         3.5143E7|   4710000.0|           2.9191E7|             1242000.0|      232000.0|                   -143000.0|             89000.0| 18000.0|                       0.0|      71000.0|            1269000.0|                3.5349E7|    2.8034E7|             7237000.0|                78000.0|             2008000.0|  71000.0|       94000.0|           3.8532E7|               2866000.0|                    0.0|           3.5666E7|                0.0|     24|      24|             7|              7|             7|       [1-100]|       21000.0|              1|            0|               0|                   0|          0|\n",
            "|       80|      NULL|             NULL|        NULL|               NULL|                  NULL|          NULL|                        NULL|                NULL|    NULL|                      NULL|         NULL|                 NULL|                    NULL|        NULL|                  NULL|                   NULL|                  NULL|     NULL|          NULL|               NULL|                    NULL|                   NULL|               NULL|               NULL|     39|      39|             5|              5|             5|       [1-100]|       12000.0|              1|            0|               0|                   0|          0|\n",
            "|       84|  2.3142E7|         2.2064E7|    2.2064E7|                0.0|                   0.0|     1078000.0|                     -9000.0|           1069000.0|214000.0|                       0.0|     855000.0|                  0.0|                1.1564E7|   8770000.0|             2794000.0|                    0.0|              606000.0| 855000.0|      865000.0|                0.0|                     0.0|                    0.0|                0.0|                0.0|     20|      20|            16|             16|            16|       [1-100]|       10000.0|              1|            0|               0|                   0|          0|\n",
            "|       91|  1.6148E7|         1.5893E7|    1.5893E7|                0.0|                   0.0|      255000.0|                    -58000.0|            197000.0| 40000.0|                       0.0|     157000.0|                  0.0|               3879000.0|   1643000.0|             2236000.0|                    0.0|              213000.0| 157000.0|      219000.0|          3873000.0|                     0.0|              2387000.0|          1486000.0|                0.0|     48|      48|            16|             16|            16|       [1-100]|       10000.0|              1|            0|               0|                   0|          0|\n",
            "|       93|  860000.0|         274000.0|    146000.0|            50000.0|               78000.0|      586000.0|                   -586000.0|                 0.0|     0.0|                       0.0|          0.0|              10000.0|                     0.0|         0.0|                   0.0|                    0.0|              150000.0|      0.0|       10000.0|           150000.0|                     0.0|               150000.0|                0.0|                0.0|     20|      20|             4|              4|             4|       [1-100]|       10000.0|              1|            0|               0|                   0|          0|\n",
            "|      100|      NULL|             NULL|        NULL|               NULL|                  NULL|          NULL|                        NULL|                NULL|    NULL|                      NULL|         NULL|                 NULL|                    NULL|        NULL|                  NULL|                   NULL|                  NULL|     NULL|          NULL|               NULL|                    NULL|                   NULL|               NULL|               NULL|     64|      64|             2|              2|             2|       [1-100]|       10000.0|              1|            0|               0|                   0|          0|\n",
            "|      102| 1.16531E8|        1.09854E8|   1.09854E8|                0.0|                   0.0|     6677000.0|                         0.0|           6677000.0|     0.0|                       0.0|    6677000.0|                  0.0|                1.9951E7|    478000.0|              1.9473E7|                    0.0|               10000.0|6677000.0|      1.9393E7|          3283000.0|                     0.0|                    0.0|          3283000.0|                0.0|    110|     110|             2|              2|             2|       [1-100]|     1003750.0|              1|            0|               0|                   0|          0|\n",
            "|      107|  4.8128E7|         4.3775E7|    4.3561E7|           214000.0|                   0.0|     4353000.0|                     14000.0|           4367000.0|558000.0|                       0.0|    3809000.0|              1.519E7|                4.2655E7|    2.7666E7|             7020000.0|              7969000.0|             1410000.0|3809000.0|     3764000.0|           5.5491E7|                3.3928E7|                    0.0|           2.1563E7|                0.0|     73|      73|            23|             23|            23|       [1-100]|     2100000.0|              1|            0|               0|                   0|          0|\n",
            "+---------+----------+-----------------+------------+-------------------+----------------------+--------------+----------------------------+--------------------+--------+--------------------------+-------------+---------------------+------------------------+------------+----------------------+-----------------------+----------------------+---------+--------------+-------------------+------------------------+-----------------------+-------------------+-------------------+-------+--------+--------------+---------------+--------------+--------------+--------------+---------------+-------------+----------------+--------------------+-----------+\n",
            "only showing top 20 rows\n",
            "\n"
          ]
        }
      ]
    },
    {
      "cell_type": "code",
      "metadata": {
        "id": "O9Ag5giIyIYH"
      },
      "source": [
        "df.write.parquet('PD-data-train.parquet')"
      ],
      "execution_count": null,
      "outputs": []
    },
    {
      "cell_type": "code",
      "metadata": {
        "id": "iqnVVeEf5ebZ"
      },
      "source": [
        "df.write.parquet('PD-data-train.snappy.parquet', compression='snappy')"
      ],
      "execution_count": null,
      "outputs": []
    },
    {
      "cell_type": "code",
      "metadata": {
        "colab": {
          "base_uri": "https://localhost:8080/"
        },
        "id": "q2phdNoF5p6I",
        "outputId": "35ece267-facd-4382-894a-a6c6957bb439"
      },
      "source": [
        "!ls -l -h"
      ],
      "execution_count": null,
      "outputs": [
        {
          "output_type": "stream",
          "name": "stdout",
          "text": [
            "total 5.1M\n",
            "-rw-r--r-- 1 root root 5.1M Mar  5 14:44 PD-data-train.csv\n",
            "drwxr-xr-x 2 root root 4.0K Mar  5 14:44 PD-data-train.parquet\n",
            "drwxr-xr-x 2 root root 4.0K Mar  5 14:44 PD-data-train.snappy.parquet\n",
            "drwxr-xr-x 1 root root 4.0K Feb 29 14:23 sample_data\n"
          ]
        }
      ]
    },
    {
      "cell_type": "code",
      "metadata": {
        "id": "M1bQt8hWBdaF",
        "colab": {
          "base_uri": "https://localhost:8080/"
        },
        "outputId": "9818c7d3-6a0e-448c-f468-1e0396a91b67"
      },
      "source": [
        "!pwd"
      ],
      "execution_count": null,
      "outputs": [
        {
          "output_type": "stream",
          "name": "stdout",
          "text": [
            "/content\n"
          ]
        }
      ]
    },
    {
      "cell_type": "code",
      "source": [],
      "metadata": {
        "id": "0IDGs_62pyk8"
      },
      "execution_count": null,
      "outputs": []
    }
  ]
}